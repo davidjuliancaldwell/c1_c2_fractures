{
 "cells": [
  {
   "cell_type": "code",
   "execution_count": 1,
   "id": "86615a14",
   "metadata": {},
   "outputs": [],
   "source": [
    "import pandas as pd\n",
    "import numpy as np\n",
    "import os\n",
    "from scipy.stats import ttest_rel\n",
    "from scipy.stats import ttest_ind\n",
    "from scipy.stats import chi2_contingency"
   ]
  },
  {
   "cell_type": "code",
   "execution_count": 2,
   "id": "4bca079e",
   "metadata": {},
   "outputs": [],
   "source": [
    "import seaborn as sns\n",
    "import matplotlib.pyplot as plt\n",
    "from scipy.stats import linregress"
   ]
  },
  {
   "cell_type": "code",
   "execution_count": 3,
   "id": "c2ed3598",
   "metadata": {},
   "outputs": [],
   "source": [
    "import sys\n",
    "sys.path.insert(0, \"/Users/vardhaanambati/Research Scripts\")\n",
    "from MyFunctions_python import *"
   ]
  },
  {
   "cell_type": "markdown",
   "id": "3b4c6733",
   "metadata": {},
   "source": [
    "### Load Dataset"
   ]
  },
  {
   "cell_type": "code",
   "execution_count": 19,
   "id": "56c5dfbe",
   "metadata": {},
   "outputs": [],
   "source": [
    "#cervical_trauma_df = pd.read_excel('/Users/vardhaanambati/Library/CloudStorage/Box-Box/c1_c2_fractures/SFGH Trauma C1 C2 Fracture Mastersheet _011725.xlsx')\n",
    "file = '/Users/vardhaanambati/Desktop/Research/Trauma/secure_ C1-C2 patient chart review/Datasets/C12_consec_multifriendly_dataset_Apr2025_Final.xlsx'\n",
    "cervical_trauma_df = pd.read_excel(file, engine='openpyxl')\n",
    "\n",
    "#mri_df = pd.read_excel('Datasets/SFGH Trauma C1 C2 Fracture MRI_Ligament Review_11112024.xlsx')\n",
    "\n",
    "#cervical_trauma_df = pd.merge(cervical_trauma_df, mri_df[mri_columns], on=\"Med Rec # (MRN)\")"
   ]
  },
  {
   "cell_type": "code",
   "execution_count": 20,
   "id": "4bf669f8",
   "metadata": {},
   "outputs": [
    {
     "name": "stdout",
     "output_type": "stream",
     "text": [
      "68\n"
     ]
    }
   ],
   "source": [
    "print(len(cervical_trauma_df))"
   ]
  },
  {
   "cell_type": "code",
   "execution_count": 21,
   "id": "47e28902",
   "metadata": {},
   "outputs": [
    {
     "data": {
      "text/html": [
       "<div>\n",
       "<style scoped>\n",
       "    .dataframe tbody tr th:only-of-type {\n",
       "        vertical-align: middle;\n",
       "    }\n",
       "\n",
       "    .dataframe tbody tr th {\n",
       "        vertical-align: top;\n",
       "    }\n",
       "\n",
       "    .dataframe thead th {\n",
       "        text-align: right;\n",
       "    }\n",
       "</style>\n",
       "<table border=\"1\" class=\"dataframe\">\n",
       "  <thead>\n",
       "    <tr style=\"text-align: right;\">\n",
       "      <th></th>\n",
       "      <th>Unnamed: 0</th>\n",
       "      <th>Med Rec # (MRN)</th>\n",
       "      <th>Date of Arrival</th>\n",
       "      <th>Discharge Disposition</th>\n",
       "      <th>Date of Hospital Discharge</th>\n",
       "      <th>Age of Injury</th>\n",
       "      <th>Date of Injury</th>\n",
       "      <th>Sex</th>\n",
       "      <th>Mechanism of Injury</th>\n",
       "      <th>Neurodeficits</th>\n",
       "      <th>...</th>\n",
       "      <th>Comments</th>\n",
       "      <th>Expired during Admission</th>\n",
       "      <th>C1 Injury</th>\n",
       "      <th>C2 Injury</th>\n",
       "      <th>C1 and 2 Injury</th>\n",
       "      <th>Female</th>\n",
       "      <th>NonUnion</th>\n",
       "      <th>C2 Dens Anderson and D'Alonzo Type 1 or 3</th>\n",
       "      <th>C1 or C2 transverse foramen fracture</th>\n",
       "      <th>C1 Landells Type 1 or 2</th>\n",
       "    </tr>\n",
       "  </thead>\n",
       "  <tbody>\n",
       "    <tr>\n",
       "      <th>0</th>\n",
       "      <td>28</td>\n",
       "      <td>1541490</td>\n",
       "      <td>2003-01-04 00:00:00</td>\n",
       "      <td>DISCHARGED, SNF</td>\n",
       "      <td>2003-01-13 00:00:00</td>\n",
       "      <td>55</td>\n",
       "      <td>2003-01-04</td>\n",
       "      <td>F</td>\n",
       "      <td>MVA</td>\n",
       "      <td>0</td>\n",
       "      <td>...</td>\n",
       "      <td>NaN</td>\n",
       "      <td>0</td>\n",
       "      <td>1</td>\n",
       "      <td>1</td>\n",
       "      <td>1</td>\n",
       "      <td>1</td>\n",
       "      <td>NaN</td>\n",
       "      <td>0</td>\n",
       "      <td>0</td>\n",
       "      <td>0</td>\n",
       "    </tr>\n",
       "    <tr>\n",
       "      <th>1</th>\n",
       "      <td>29</td>\n",
       "      <td>450824</td>\n",
       "      <td>2003-01-14 00:00:00</td>\n",
       "      <td>DISCHARGED, SNF</td>\n",
       "      <td>2003-01-30 00:00:00</td>\n",
       "      <td>62</td>\n",
       "      <td>2003-01-14</td>\n",
       "      <td>F</td>\n",
       "      <td>MVA</td>\n",
       "      <td>0</td>\n",
       "      <td>...</td>\n",
       "      <td>NaN</td>\n",
       "      <td>0</td>\n",
       "      <td>1</td>\n",
       "      <td>1</td>\n",
       "      <td>1</td>\n",
       "      <td>1</td>\n",
       "      <td>NaN</td>\n",
       "      <td>0</td>\n",
       "      <td>0</td>\n",
       "      <td>0</td>\n",
       "    </tr>\n",
       "    <tr>\n",
       "      <th>2</th>\n",
       "      <td>45</td>\n",
       "      <td>1771132</td>\n",
       "      <td>2010-08-15 00:00:00</td>\n",
       "      <td>HOME</td>\n",
       "      <td>2010-08-31 00:00:00</td>\n",
       "      <td>69</td>\n",
       "      <td>2010-08-15</td>\n",
       "      <td>M</td>\n",
       "      <td>MVA</td>\n",
       "      <td>0</td>\n",
       "      <td>...</td>\n",
       "      <td>NaN</td>\n",
       "      <td>0</td>\n",
       "      <td>1</td>\n",
       "      <td>1</td>\n",
       "      <td>1</td>\n",
       "      <td>0</td>\n",
       "      <td>NaN</td>\n",
       "      <td>1</td>\n",
       "      <td>0</td>\n",
       "      <td>1</td>\n",
       "    </tr>\n",
       "    <tr>\n",
       "      <th>3</th>\n",
       "      <td>51</td>\n",
       "      <td>1822280</td>\n",
       "      <td>2012-03-09 00:00:00</td>\n",
       "      <td>HOME</td>\n",
       "      <td>2012-03-16 00:00:00</td>\n",
       "      <td>85</td>\n",
       "      <td>2012-03-09</td>\n",
       "      <td>F</td>\n",
       "      <td>Fall from stairs</td>\n",
       "      <td>0</td>\n",
       "      <td>...</td>\n",
       "      <td>NaN</td>\n",
       "      <td>0</td>\n",
       "      <td>1</td>\n",
       "      <td>1</td>\n",
       "      <td>1</td>\n",
       "      <td>1</td>\n",
       "      <td>NaN</td>\n",
       "      <td>0</td>\n",
       "      <td>1</td>\n",
       "      <td>1</td>\n",
       "    </tr>\n",
       "    <tr>\n",
       "      <th>4</th>\n",
       "      <td>55</td>\n",
       "      <td>1843385</td>\n",
       "      <td>2013-01-01 00:00:00</td>\n",
       "      <td>HOSP TRANSFER</td>\n",
       "      <td>2013-01-03 00:00:00</td>\n",
       "      <td>71</td>\n",
       "      <td>2013-01-01</td>\n",
       "      <td>M</td>\n",
       "      <td>Ground level falls</td>\n",
       "      <td>0</td>\n",
       "      <td>...</td>\n",
       "      <td>NaN</td>\n",
       "      <td>0</td>\n",
       "      <td>1</td>\n",
       "      <td>1</td>\n",
       "      <td>1</td>\n",
       "      <td>0</td>\n",
       "      <td>NaN</td>\n",
       "      <td>0</td>\n",
       "      <td>0</td>\n",
       "      <td>0</td>\n",
       "    </tr>\n",
       "    <tr>\n",
       "      <th>...</th>\n",
       "      <td>...</td>\n",
       "      <td>...</td>\n",
       "      <td>...</td>\n",
       "      <td>...</td>\n",
       "      <td>...</td>\n",
       "      <td>...</td>\n",
       "      <td>...</td>\n",
       "      <td>...</td>\n",
       "      <td>...</td>\n",
       "      <td>...</td>\n",
       "      <td>...</td>\n",
       "      <td>...</td>\n",
       "      <td>...</td>\n",
       "      <td>...</td>\n",
       "      <td>...</td>\n",
       "      <td>...</td>\n",
       "      <td>...</td>\n",
       "      <td>...</td>\n",
       "      <td>...</td>\n",
       "      <td>...</td>\n",
       "      <td>...</td>\n",
       "    </tr>\n",
       "    <tr>\n",
       "      <th>63</th>\n",
       "      <td>132</td>\n",
       "      <td>200397550</td>\n",
       "      <td>2024-05-10 00:00:00</td>\n",
       "      <td>EXPIRED</td>\n",
       "      <td>2024-05-17 00:00:00</td>\n",
       "      <td>84</td>\n",
       "      <td>2024-05-10</td>\n",
       "      <td>M</td>\n",
       "      <td>Ground level falls</td>\n",
       "      <td>1</td>\n",
       "      <td>...</td>\n",
       "      <td>NaN</td>\n",
       "      <td>1</td>\n",
       "      <td>1</td>\n",
       "      <td>1</td>\n",
       "      <td>1</td>\n",
       "      <td>0</td>\n",
       "      <td>NaN</td>\n",
       "      <td>0</td>\n",
       "      <td>1</td>\n",
       "      <td>0</td>\n",
       "    </tr>\n",
       "    <tr>\n",
       "      <th>64</th>\n",
       "      <td>133</td>\n",
       "      <td>200399664</td>\n",
       "      <td>2024-05-19 00:00:00</td>\n",
       "      <td>DISCHARGED, SNF</td>\n",
       "      <td>2024-05-23 00:00:00</td>\n",
       "      <td>93</td>\n",
       "      <td>2024-05-19</td>\n",
       "      <td>F</td>\n",
       "      <td>Ground level falls</td>\n",
       "      <td>1</td>\n",
       "      <td>...</td>\n",
       "      <td>NaN</td>\n",
       "      <td>0</td>\n",
       "      <td>1</td>\n",
       "      <td>1</td>\n",
       "      <td>1</td>\n",
       "      <td>1</td>\n",
       "      <td>1.0</td>\n",
       "      <td>1</td>\n",
       "      <td>1</td>\n",
       "      <td>0</td>\n",
       "    </tr>\n",
       "    <tr>\n",
       "      <th>65</th>\n",
       "      <td>284</td>\n",
       "      <td>1339937</td>\n",
       "      <td>2016-08-31 00:00:00</td>\n",
       "      <td>HOME</td>\n",
       "      <td>2016-09-07 00:00:00</td>\n",
       "      <td>72</td>\n",
       "      <td>2016-08-31</td>\n",
       "      <td>F</td>\n",
       "      <td>Fall from stairs</td>\n",
       "      <td>No</td>\n",
       "      <td>...</td>\n",
       "      <td>NaN</td>\n",
       "      <td>0</td>\n",
       "      <td>1</td>\n",
       "      <td>1</td>\n",
       "      <td>1</td>\n",
       "      <td>1</td>\n",
       "      <td>NaN</td>\n",
       "      <td>0</td>\n",
       "      <td>0</td>\n",
       "      <td>1</td>\n",
       "    </tr>\n",
       "    <tr>\n",
       "      <th>66</th>\n",
       "      <td>285</td>\n",
       "      <td>1927003</td>\n",
       "      <td>2016-09-11 00:12:00</td>\n",
       "      <td>DISCHARGED, SNF</td>\n",
       "      <td>2016-09-21 17:12:00</td>\n",
       "      <td>85</td>\n",
       "      <td>2016-09-10</td>\n",
       "      <td>M</td>\n",
       "      <td>Fall from stairs</td>\n",
       "      <td>No</td>\n",
       "      <td>...</td>\n",
       "      <td>NaN</td>\n",
       "      <td>0</td>\n",
       "      <td>1</td>\n",
       "      <td>1</td>\n",
       "      <td>1</td>\n",
       "      <td>0</td>\n",
       "      <td>NaN</td>\n",
       "      <td>0</td>\n",
       "      <td>0</td>\n",
       "      <td>0</td>\n",
       "    </tr>\n",
       "    <tr>\n",
       "      <th>67</th>\n",
       "      <td>286</td>\n",
       "      <td>1916981</td>\n",
       "      <td>2016-02-08 14:40:00</td>\n",
       "      <td>HOSP TRANSFER</td>\n",
       "      <td>2016-03-24 00:00:00</td>\n",
       "      <td>89</td>\n",
       "      <td>2016-02-08</td>\n",
       "      <td>F</td>\n",
       "      <td>Blunt head trauma</td>\n",
       "      <td>1</td>\n",
       "      <td>...</td>\n",
       "      <td>NaN</td>\n",
       "      <td>0</td>\n",
       "      <td>1</td>\n",
       "      <td>1</td>\n",
       "      <td>1</td>\n",
       "      <td>1</td>\n",
       "      <td>1.0</td>\n",
       "      <td>0</td>\n",
       "      <td>0</td>\n",
       "      <td>1</td>\n",
       "    </tr>\n",
       "  </tbody>\n",
       "</table>\n",
       "<p>68 rows × 68 columns</p>\n",
       "</div>"
      ],
      "text/plain": [
       "    Unnamed: 0  Med Rec # (MRN)     Date of Arrival Discharge Disposition  \\\n",
       "0           28          1541490 2003-01-04 00:00:00       DISCHARGED, SNF   \n",
       "1           29           450824 2003-01-14 00:00:00       DISCHARGED, SNF   \n",
       "2           45          1771132 2010-08-15 00:00:00                  HOME   \n",
       "3           51          1822280 2012-03-09 00:00:00                  HOME   \n",
       "4           55          1843385 2013-01-01 00:00:00         HOSP TRANSFER   \n",
       "..         ...              ...                 ...                   ...   \n",
       "63         132        200397550 2024-05-10 00:00:00               EXPIRED   \n",
       "64         133        200399664 2024-05-19 00:00:00       DISCHARGED, SNF   \n",
       "65         284          1339937 2016-08-31 00:00:00                  HOME   \n",
       "66         285          1927003 2016-09-11 00:12:00       DISCHARGED, SNF   \n",
       "67         286          1916981 2016-02-08 14:40:00         HOSP TRANSFER   \n",
       "\n",
       "   Date of Hospital Discharge  Age of Injury Date of Injury Sex  \\\n",
       "0         2003-01-13 00:00:00             55     2003-01-04   F   \n",
       "1         2003-01-30 00:00:00             62     2003-01-14   F   \n",
       "2         2010-08-31 00:00:00             69     2010-08-15   M   \n",
       "3         2012-03-16 00:00:00             85     2012-03-09   F   \n",
       "4         2013-01-03 00:00:00             71     2013-01-01   M   \n",
       "..                        ...            ...            ...  ..   \n",
       "63        2024-05-17 00:00:00             84     2024-05-10   M   \n",
       "64        2024-05-23 00:00:00             93     2024-05-19   F   \n",
       "65        2016-09-07 00:00:00             72     2016-08-31   F   \n",
       "66        2016-09-21 17:12:00             85     2016-09-10   M   \n",
       "67        2016-03-24 00:00:00             89     2016-02-08   F   \n",
       "\n",
       "   Mechanism of Injury Neurodeficits  ...  Comments  Expired during Admission  \\\n",
       "0                  MVA             0  ...       NaN                         0   \n",
       "1                  MVA             0  ...       NaN                         0   \n",
       "2                  MVA             0  ...       NaN                         0   \n",
       "3     Fall from stairs             0  ...       NaN                         0   \n",
       "4   Ground level falls             0  ...       NaN                         0   \n",
       "..                 ...           ...  ...       ...                       ...   \n",
       "63  Ground level falls             1  ...       NaN                         1   \n",
       "64  Ground level falls             1  ...       NaN                         0   \n",
       "65    Fall from stairs            No  ...       NaN                         0   \n",
       "66    Fall from stairs            No  ...       NaN                         0   \n",
       "67   Blunt head trauma             1  ...       NaN                         0   \n",
       "\n",
       "    C1 Injury  C2 Injury  C1 and 2 Injury  Female  NonUnion  \\\n",
       "0           1          1                1       1       NaN   \n",
       "1           1          1                1       1       NaN   \n",
       "2           1          1                1       0       NaN   \n",
       "3           1          1                1       1       NaN   \n",
       "4           1          1                1       0       NaN   \n",
       "..        ...        ...              ...     ...       ...   \n",
       "63          1          1                1       0       NaN   \n",
       "64          1          1                1       1       1.0   \n",
       "65          1          1                1       1       NaN   \n",
       "66          1          1                1       0       NaN   \n",
       "67          1          1                1       1       1.0   \n",
       "\n",
       "    C2 Dens Anderson and D'Alonzo Type 1 or 3  \\\n",
       "0                                           0   \n",
       "1                                           0   \n",
       "2                                           1   \n",
       "3                                           0   \n",
       "4                                           0   \n",
       "..                                        ...   \n",
       "63                                          0   \n",
       "64                                          1   \n",
       "65                                          0   \n",
       "66                                          0   \n",
       "67                                          0   \n",
       "\n",
       "   C1 or C2 transverse foramen fracture  C1 Landells Type 1 or 2  \n",
       "0                                     0                        0  \n",
       "1                                     0                        0  \n",
       "2                                     0                        1  \n",
       "3                                     1                        1  \n",
       "4                                     0                        0  \n",
       "..                                  ...                      ...  \n",
       "63                                    1                        0  \n",
       "64                                    1                        0  \n",
       "65                                    0                        1  \n",
       "66                                    0                        0  \n",
       "67                                    0                        1  \n",
       "\n",
       "[68 rows x 68 columns]"
      ]
     },
     "execution_count": 21,
     "metadata": {},
     "output_type": "execute_result"
    }
   ],
   "source": [
    "cervical_trauma_df"
   ]
  },
  {
   "cell_type": "markdown",
   "id": "a2732f56",
   "metadata": {},
   "source": [
    "### Filter out Pts with Missing Fracture Data"
   ]
  },
  {
   "cell_type": "code",
   "execution_count": 22,
   "id": "a6bfb0dc",
   "metadata": {},
   "outputs": [],
   "source": [
    "columns_to_check = [\n",
    "    \"C1 Landells Type I\",\n",
    "    \"C1 Landells Type 2\",\n",
    "    \"C1 Landells Type 3\",\n",
    "    \"C1 transverse foramen fracture\",\n",
    "    \"C2 Dens Anderson and D'Alonzo Type 1\",\n",
    "    \"C2 Dens Anderson and D'Alonzo Type 2\",\n",
    "    \"C2 Dens Anderson and D'Alonzo Type 3\",\n",
    "    \"C2 transverse foramen fracture\",\n",
    "    \"C2 lateral mass fracture\",\n",
    "    \"C2 Hangman's fracture\",\n",
    "    \"Occipital Condyle Fracture\"\n",
    "]\n",
    "\n",
    "# Drop rows where all specified columns are empty\n",
    "cervical_trauma_df = cervical_trauma_df.dropna(subset=columns_to_check, how='all')"
   ]
  },
  {
   "cell_type": "code",
   "execution_count": 23,
   "id": "4ee41476",
   "metadata": {},
   "outputs": [
    {
     "name": "stdout",
     "output_type": "stream",
     "text": [
      "68\n"
     ]
    }
   ],
   "source": [
    "print(len(cervical_trauma_df))"
   ]
  },
  {
   "cell_type": "markdown",
   "id": "fbaac6bd",
   "metadata": {},
   "source": [
    "### Variable Building"
   ]
  },
  {
   "cell_type": "code",
   "execution_count": 28,
   "id": "0bef7635",
   "metadata": {},
   "outputs": [],
   "source": [
    "cervical_trauma_df['Expired during Admission'] = np.where(cervical_trauma_df['Outcome (home, skilled nursing, death)'].str.lower() == 'death', 1, 0)\n",
    "C1_columns_to_check = [\n",
    "    \"C1 Landells Type I\",\n",
    "    \"C1 Landells Type 2\",\n",
    "    \"C1 Landells Type 3\",\n",
    "    \"C1 transverse foramen fracture\"\n",
    "]\n",
    "\n",
    "C2_columns_to_check = [\n",
    "    \"C2 Dens Anderson and D'Alonzo Type 1\",\n",
    "    \"C2 Dens Anderson and D'Alonzo Type 2\",\n",
    "    \"C2 Dens Anderson and D'Alonzo Type 3\",\n",
    "    \"C2 transverse foramen fracture\",\n",
    "    \"C2 lateral mass fracture\",\n",
    "    \"C2 Hangman's fracture\",\n",
    "]\n",
    "\n",
    "\n",
    "# Create 'C1 Injury' column\n",
    "cervical_trauma_df['C1 Injury'] = cervical_trauma_df[C1_columns_to_check].apply(lambda row: 1 if (row == 1).any() else 0, axis=1)\n",
    "# Create 'C2 Injury' column\n",
    "cervical_trauma_df['C2 Injury'] = cervical_trauma_df[C2_columns_to_check].apply(lambda row: 1 if (row == 1).any() else 0, axis=1)\n",
    "\n",
    "Combined_Injury = [\n",
    "    \"C1 Injury\",\n",
    "    \"C2 Injury\",\n",
    "]\n",
    "cervical_trauma_df['C1 and 2 Injury'] = ((cervical_trauma_df['C1 Injury'] == 1) & (cervical_trauma_df['C2 Injury'] == 1)).astype(int)\n",
    "\n",
    "cervical_trauma_df['Female'] = np.where(cervical_trauma_df['Sex'].str.lower() == 'f', 1, 0)\n",
    "\n",
    "\n",
    "\n",
    "cervical_trauma_df['Neurodeficits'] = np.where(cervical_trauma_df['Neurodeficits'] == 'No', 0, cervical_trauma_df['Neurodeficits'])\n",
    "\n",
    "\n",
    "cervical_trauma_df['NonUnion'] = cervical_trauma_df['Had the fracture healed at follow up? (union vs. non-union)'].apply(\n",
    "    lambda x: 1 if x == 'Nonunion' else (0 if x == 'Union' else np.nan)\n",
    ")\n",
    "cervical_trauma_df.loc[cervical_trauma_df['Expired during Admission'] == 1, 'NonUnion'] = np.nan"
   ]
  },
  {
   "cell_type": "code",
   "execution_count": 29,
   "id": "492b4641",
   "metadata": {},
   "outputs": [
    {
     "data": {
      "text/plain": [
       "0    35\n",
       "1    33\n",
       "Name: Neurodeficits, dtype: int64"
      ]
     },
     "execution_count": 29,
     "metadata": {},
     "output_type": "execute_result"
    }
   ],
   "source": [
    "cervical_trauma_df['Neurodeficits'].value_counts()"
   ]
  },
  {
   "cell_type": "code",
   "execution_count": 31,
   "id": "9868ae3b",
   "metadata": {},
   "outputs": [
    {
     "data": {
      "text/plain": [
       "0    50\n",
       "1    18\n",
       "Name: C2 Dens Anderson and D'Alonzo Type 1 or 3, dtype: int64"
      ]
     },
     "execution_count": 31,
     "metadata": {},
     "output_type": "execute_result"
    }
   ],
   "source": [
    "cervical_trauma_df[\"C2 Dens Anderson and D'Alonzo Type 1 or 3\"].value_counts()"
   ]
  },
  {
   "cell_type": "code",
   "execution_count": 32,
   "id": "31d1cda7",
   "metadata": {},
   "outputs": [],
   "source": [
    "cervical_trauma_df[\"C2 Dens Anderson and D'Alonzo Type 1 or 3\"] = ((cervical_trauma_df[\"C2 Dens Anderson and D'Alonzo Type 1\"] == 1) | (cervical_trauma_df[\"C2 Dens Anderson and D'Alonzo Type 3\"] == 1)).astype(int)\n",
    "\n",
    "\n",
    "cervical_trauma_df[\"C1 or C2 transverse foramen fracture\"] = ((cervical_trauma_df[\"C1 transverse foramen fracture\"] == 1) | (cervical_trauma_df[\"C2 transverse foramen fracture\"] == 1)).astype(int)\n",
    "\n",
    "\n",
    "cervical_trauma_df[\"C1 Landells Type 1 or 2\"] = ((cervical_trauma_df[\"C1 Landells Type I\"] == 1) | (cervical_trauma_df[\"C1 Landells Type 2\"] == 1)).astype(int)\n",
    "\n"
   ]
  },
  {
   "cell_type": "code",
   "execution_count": 33,
   "id": "dd6c53b3",
   "metadata": {},
   "outputs": [
    {
     "name": "stdout",
     "output_type": "stream",
     "text": [
      "Count of 1s in both columns: 1\n",
      "Count of 1s in col1: 28\n",
      "Count of 1s in col2: 28\n"
     ]
    }
   ],
   "source": [
    "count_both = ((cervical_trauma_df[\"C1 Landells Type I\"] == 1) & (cervical_trauma_df[\"C1 Landells Type 2\"] == 1)).sum()\n",
    "\n",
    "# Count of rows where col1 is 1\n",
    "count_col1 = (cervical_trauma_df[\"C1 Landells Type I\"] == 1).sum()\n",
    "\n",
    "# Count of rows where col2 is 1\n",
    "count_col2 = (cervical_trauma_df[\"C1 Landells Type 2\"] == 1).sum()\n",
    "\n",
    "# Display the results\n",
    "print(f\"Count of 1s in both columns: {count_both}\")\n",
    "print(f\"Count of 1s in col1: {count_col1}\")\n",
    "print(f\"Count of 1s in col2: {count_col2}\")"
   ]
  },
  {
   "cell_type": "code",
   "execution_count": 34,
   "id": "9a8fd475",
   "metadata": {},
   "outputs": [
    {
     "data": {
      "text/plain": [
       "68"
      ]
     },
     "execution_count": 34,
     "metadata": {},
     "output_type": "execute_result"
    }
   ],
   "source": [
    "len(cervical_trauma_df)"
   ]
  },
  {
   "cell_type": "code",
   "execution_count": 35,
   "id": "398b1dce",
   "metadata": {},
   "outputs": [
    {
     "data": {
      "text/plain": [
       "17"
      ]
     },
     "execution_count": 35,
     "metadata": {},
     "output_type": "execute_result"
    }
   ],
   "source": [
    "len(cervical_trauma_df[cervical_trauma_df['Outcome (home, skilled nursing, death)'] == 'Death'])"
   ]
  },
  {
   "cell_type": "code",
   "execution_count": 68,
   "id": "63c7b033",
   "metadata": {},
   "outputs": [
    {
     "data": {
      "text/plain": [
       "C1-C2 PSF                                                                                       6\n",
       "C1-C2 PSIF                                                                                      2\n",
       "PR CERV C1-2 FUSN,POSTER TECH                                                                   2\n",
       "C1-C2 fusion with transpedicular screws                                                         1\n",
       "Screw insertion, odontoid C2                                                                    1\n",
       "C2-C3 ACDF                                                                                      1\n",
       "C6-T4 PSIF                                                                                      1\n",
       "C1-C3 PSF                                                                                       1\n",
       "C1-C6 PSIF, C2-C5 laminectomy                                                                   1\n",
       "Anterior cervical approach for C2 odontoid screw placement                                      1\n",
       "C3-T2 PSIF, C5-C7 laminectomies, 22600 - PR ARTHRD PST/PSTLAT TQ 1NTRSPC CRV BELW C2 SEGMENT    1\n",
       "PR CRANIOCERV FUSN,POST TECHNIQUE                                                               1\n",
       "Name: What was the surgery (if applicable), dtype: int64"
      ]
     },
     "execution_count": 68,
     "metadata": {},
     "output_type": "execute_result"
    }
   ],
   "source": [
    "cervical_trauma_df['What was the surgery (if applicable)'].value_counts()"
   ]
  },
  {
   "cell_type": "code",
   "execution_count": 36,
   "id": "75734283",
   "metadata": {},
   "outputs": [
    {
     "data": {
      "text/plain": [
       "51"
      ]
     },
     "execution_count": 36,
     "metadata": {},
     "output_type": "execute_result"
    }
   ],
   "source": [
    "survived_df = cervical_trauma_df[cervical_trauma_df['Outcome (home, skilled nursing, death)'] != 'Death']\n",
    "len(survived_df)"
   ]
  },
  {
   "cell_type": "code",
   "execution_count": 37,
   "id": "4a0b5435",
   "metadata": {},
   "outputs": [
    {
     "data": {
      "text/plain": [
       "1.0    9\n",
       "Name: Dead, dtype: int64"
      ]
     },
     "execution_count": 37,
     "metadata": {},
     "output_type": "execute_result"
    }
   ],
   "source": [
    "survived_df['Dead'].value_counts()"
   ]
  },
  {
   "cell_type": "code",
   "execution_count": 63,
   "id": "5848e210",
   "metadata": {},
   "outputs": [
    {
     "data": {
      "text/plain": [
       "0.17647058823529413"
      ]
     },
     "execution_count": 63,
     "metadata": {},
     "output_type": "execute_result"
    }
   ],
   "source": [
    "9/51"
   ]
  },
  {
   "cell_type": "code",
   "execution_count": 65,
   "id": "faea6896",
   "metadata": {},
   "outputs": [
    {
     "data": {
      "text/plain": [
       "0.4444444444444444"
      ]
     },
     "execution_count": 65,
     "metadata": {},
     "output_type": "execute_result"
    }
   ],
   "source": [
    "died_fu_df = survived_df[survived_df['Dead']==1]\n",
    "len(died_fu_df[died_fu_df['Length of follow up from discharge'] < 365])\n",
    "4/9"
   ]
  },
  {
   "cell_type": "code",
   "execution_count": 64,
   "id": "fb76721f",
   "metadata": {},
   "outputs": [
    {
     "name": "stdout",
     "output_type": "stream",
     "text": [
      "Mean survival after discharge: 2.422526636225266\n",
      "Min survival after discharge: 30.0\n",
      "Max survival after discharge: 7.186301369863013\n"
     ]
    }
   ],
   "source": [
    "print(f\"Mean survival after discharge: {np.mean(survived_df[survived_df['Dead']==1]['Length of follow up from discharge'])/365}\")\n",
    "print(f\"Min survival after discharge: {np.min(survived_df[survived_df['Dead']==1]['Length of follow up from discharge'])}\")\n",
    "print(f\"Max survival after discharge: {np.max(survived_df[survived_df['Dead']==1]['Length of follow up from discharge'])/365}\")"
   ]
  },
  {
   "cell_type": "markdown",
   "id": "e7e21422",
   "metadata": {},
   "source": [
    "### Study Variables "
   ]
  },
  {
   "cell_type": "code",
   "execution_count": 42,
   "id": "a9f10307",
   "metadata": {},
   "outputs": [],
   "source": [
    "Study_Vars = ['Age of Injury', 'Female', \n",
    "                    'HTN?', 'Afib?', 'HLD?', 'DM?',  'SUD/AUD?', 'Osteoporosis?', 'Dementia?',\n",
    "                    'Mechanism of Injury',\n",
    "                    'Injury Severity Score',\n",
    "                    'Neurodeficits']\n",
    "mri_columns = [\"MRI\", \"Ligament Damage\", \"Anterior longitudinal\", \"Posterior longitudinal\", \"Transverse\", \"Right alar\", \"Left alar\", \"Tectorial\", \n",
    "              \"Anterior atlantoaxial\", \"Posterior atlantoaxial\", \"Anterior atlantoocipital\", \"Posterior atlantoocciptal\", \"Ligamentum flavum\",\n",
    "              \"Apical\", \"Nuchal\", \"Supraspinous\"]\n",
    "Study_Vars.extend(mri_columns)\n",
    "\n",
    "Study_Vars.extend([\"Occipital Condyle Fracture\",\n",
    "                    \"C1 Landells Type 1 or 2\",\n",
    "                    \"C1 Landells Type 3\", \n",
    "                    \"C2 Dens Anderson and D'Alonzo Type 1 or 3\",\n",
    "                    \"C2 Dens Anderson and D'Alonzo Type 2\",\n",
    "                    \"C1 or C2 transverse foramen fracture\",\n",
    "                    \"C2 lateral mass fracture\",\n",
    "                    \"C2 Hangman's fracture\",\n",
    "                    'Surgery',\n",
    "                    'Expired during Admission',\n",
    "                    'NonUnion'])\n",
    "\n",
    "continuous_vars = ['Age of Injury', 'Injury Severity Score']"
   ]
  },
  {
   "cell_type": "markdown",
   "id": "2f798f9f",
   "metadata": {},
   "source": [
    "### Cohort Building"
   ]
  },
  {
   "cell_type": "code",
   "execution_count": 43,
   "id": "296cbd52",
   "metadata": {},
   "outputs": [
    {
     "data": {
      "text/plain": [
       "0    35\n",
       "1    33\n",
       "Name: Neurodeficits, dtype: int64"
      ]
     },
     "execution_count": 43,
     "metadata": {},
     "output_type": "execute_result"
    }
   ],
   "source": [
    "cervical_trauma_df['Neurodeficits'].value_counts()"
   ]
  },
  {
   "cell_type": "code",
   "execution_count": 56,
   "id": "2c778b04",
   "metadata": {},
   "outputs": [
    {
     "name": "stdout",
     "output_type": "stream",
     "text": [
      "68\n"
     ]
    }
   ],
   "source": [
    "cervical_trauma_df = cervical_trauma_df[cervical_trauma_df['C1 and 2 Injury']==1]\n",
    "cervical_trauma_df.to_csv('Datasets/C12_consec_multifriendly_dataset_Apr2025_Final.csv')\n",
    "Name = \"C12_CONSECUTIVE_Cases\"\n",
    "Fisher = True\n",
    "print(len(cervical_trauma_df))"
   ]
  },
  {
   "cell_type": "code",
   "execution_count": 45,
   "id": "ab05864e",
   "metadata": {},
   "outputs": [],
   "source": [
    "#cervical_trauma_df.to_excel('Datasets/C12_consec_confirmed_dataset_Jan2025.xlsx')"
   ]
  },
  {
   "cell_type": "code",
   "execution_count": 46,
   "id": "2a6a8619",
   "metadata": {},
   "outputs": [
    {
     "data": {
      "text/plain": [
       "1.0    44\n",
       "0.0    20\n",
       "Name: MRI, dtype: int64"
      ]
     },
     "execution_count": 46,
     "metadata": {},
     "output_type": "execute_result"
    }
   ],
   "source": [
    "cervical_trauma_df['MRI'].value_counts()"
   ]
  },
  {
   "cell_type": "markdown",
   "id": "ef360d7b",
   "metadata": {},
   "source": [
    "### Build Tables"
   ]
  },
  {
   "cell_type": "code",
   "execution_count": 47,
   "id": "39c424d1",
   "metadata": {},
   "outputs": [],
   "source": [
    "Tables = {}"
   ]
  },
  {
   "cell_type": "markdown",
   "id": "c74ae012",
   "metadata": {},
   "source": [
    "#### Table 1"
   ]
  },
  {
   "cell_type": "code",
   "execution_count": 48,
   "id": "095d2c25",
   "metadata": {},
   "outputs": [],
   "source": [
    "Tables['Study Cohort']= Table1_Study_Cohort_Describe(cervical_trauma_df, Study_Vars, continuous_vars)"
   ]
  },
  {
   "cell_type": "markdown",
   "id": "50a2f3dc",
   "metadata": {},
   "source": [
    "#### Table 2: Death - FULL Cohort"
   ]
  },
  {
   "cell_type": "code",
   "execution_count": 49,
   "id": "dea096c1",
   "metadata": {},
   "outputs": [
    {
     "name": "stdout",
     "output_type": "stream",
     "text": [
      "The variable is binary (0 or 1). No dummy column created.\n",
      "R code for multivariate: \n",
      "Expired.during.Admission ~ Female + HTN. + Injury.Severity.Score + Neurodeficits + Posterior.atlantoaxial + C2.Dens.Anderson.and.D.Alonzo.Type.1.or.3 + Surgery\n"
     ]
    }
   ],
   "source": [
    "independent_var = 'Expired during Admission'\n",
    "Tables['Expired Inpatient; Full (Uni)']= Build_Uni_Comparison_Table(cervical_trauma_df, independent_var, Study_Vars, continuous_vars, Fisher)"
   ]
  },
  {
   "cell_type": "markdown",
   "id": "f493c3cd",
   "metadata": {},
   "source": [
    "#### Table 3: Surgery - FULL cohort"
   ]
  },
  {
   "cell_type": "code",
   "execution_count": 50,
   "id": "5219a331",
   "metadata": {},
   "outputs": [
    {
     "name": "stdout",
     "output_type": "stream",
     "text": [
      "The variable is binary (0 or 1). No dummy column created.\n",
      "R code for multivariate: \n",
      "Surgery ~ Female + DM. + Injury.Severity.Score + MRI + Posterior.longitudinal + Ligamentum.flavum + Apical + Supraspinous + C2.Dens.Anderson.and.D.Alonzo.Type.1.or.3 + C2.Dens.Anderson.and.D.Alonzo.Type.2 + Expired.during.Admission\n"
     ]
    }
   ],
   "source": [
    "independent_var = 'Surgery'\n",
    "Tables['Surgery Analysis (Uni)']= Build_Uni_Comparison_Table(cervical_trauma_df, independent_var, Study_Vars, continuous_vars, Fisher)"
   ]
  },
  {
   "cell_type": "markdown",
   "id": "294d7726",
   "metadata": {},
   "source": [
    "#### Table 4: NonUnion - FULL cohort"
   ]
  },
  {
   "cell_type": "code",
   "execution_count": 51,
   "id": "ee9327d8",
   "metadata": {},
   "outputs": [
    {
     "name": "stdout",
     "output_type": "stream",
     "text": [
      "The variable is binary (0 or 1). No dummy column created.\n",
      "R code for multivariate: \n",
      "NonUnion ~ Age.of.Injury + Mechanism.of.Injury + Injury.Severity.Score + Anterior.longitudinal + C2.Dens.Anderson.and.D.Alonzo.Type.2 + C2.lateral.mass.fracture\n"
     ]
    }
   ],
   "source": [
    "union_df = cervical_trauma_df[cervical_trauma_df['Expired during Admission']!=1]\n",
    "union_df = union_df[~union_df['NonUnion'].isna()]\n",
    "\n",
    "independent_var = 'NonUnion'\n",
    "Tables['NonUnion Analysis (Uni)']= Build_Uni_Comparison_Table(union_df, independent_var, Study_Vars, continuous_vars, Fisher)"
   ]
  },
  {
   "cell_type": "code",
   "execution_count": 62,
   "id": "e75e08ff",
   "metadata": {},
   "outputs": [
    {
     "data": {
      "text/plain": [
       "0    22\n",
       "Name: C2 Hangman's fracture, dtype: int64"
      ]
     },
     "execution_count": 62,
     "metadata": {},
     "output_type": "execute_result"
    }
   ],
   "source": [
    "union_df[\"C2 Hangman's fracture\"].value_counts()"
   ]
  },
  {
   "cell_type": "markdown",
   "id": "8b53d76b",
   "metadata": {},
   "source": [
    "#### Table 5: Death - PSM Cohort"
   ]
  },
  {
   "cell_type": "markdown",
   "id": "35580356",
   "metadata": {},
   "source": [
    "c12_consec_died_PSM_df = pd.read_csv('Datasets/c12_consec_died_PSM.csv')\n",
    "independent_var = R_friendly('Expired during Admission')\n",
    "Study_Vars_R = R_friendly(Study_Vars)\n",
    "continuous_vars_R = R_friendly(continuous_vars)"
   ]
  },
  {
   "cell_type": "markdown",
   "id": "456c0523",
   "metadata": {},
   "source": [
    "Tables['Expired Inpatient; PSM (Uni)']= Build_Uni_Comparison_Table(c12_consec_died_PSM_df, independent_var, Study_Vars_R, continuous_vars_R, Fisher, output_Multi = False)"
   ]
  },
  {
   "cell_type": "markdown",
   "id": "e5b59f29",
   "metadata": {},
   "source": [
    "#### Table 5: Surgery - PSM Cohort"
   ]
  },
  {
   "cell_type": "markdown",
   "id": "69251c61",
   "metadata": {},
   "source": [
    "c12_consec_surg_PSM_df = pd.read_csv('Datasets/c12_consec_surg_PSM.csv')\n",
    "independent_var = R_friendly('Surgery')"
   ]
  },
  {
   "cell_type": "markdown",
   "id": "4b07aad7",
   "metadata": {},
   "source": [
    "Tables['Surgery Analysis; PSM (Uni)']= Build_Uni_Comparison_Table(c12_consec_surg_PSM_df, independent_var, Study_Vars_R, continuous_vars_R, Fisher, output_Multi = False)"
   ]
  },
  {
   "cell_type": "markdown",
   "id": "e0b1ccdb",
   "metadata": {},
   "source": [
    "#### Table 6: Union - PSM Cohort"
   ]
  },
  {
   "cell_type": "markdown",
   "id": "27d808de",
   "metadata": {},
   "source": [
    "c12_consec_Nonunion_PSM_df = pd.read_csv('Datasets/c12_consec_Nonunion_PSM.csv')\n",
    "independent_var = R_friendly('NonUnion')"
   ]
  },
  {
   "cell_type": "markdown",
   "id": "9af50287",
   "metadata": {},
   "source": [
    "Tables['NonUnion Analysis; PSM (Uni)']= Build_Uni_Comparison_Table(c12_consec_Nonunion_PSM_df, independent_var, Study_Vars_R, continuous_vars_R, Fisher, output_Multi = False)"
   ]
  },
  {
   "cell_type": "markdown",
   "id": "420d0c7d",
   "metadata": {},
   "source": [
    "### Export Univariate Tables"
   ]
  },
  {
   "cell_type": "code",
   "execution_count": 52,
   "id": "b424bb7d",
   "metadata": {},
   "outputs": [],
   "source": [
    "Export_Univariate_Tables_To_Excel(Tables, Name)"
   ]
  },
  {
   "cell_type": "code",
   "execution_count": 53,
   "id": "0d7a64a3",
   "metadata": {},
   "outputs": [],
   "source": [
    "### Can Check before deleting yesterday's files\n",
    "#compare_excel_files('C12_ALL_Cases_Multivariate_09_07_2024.xlsx', 'C12_All_Cases_Multivariate_09_08_2024.xlsx')"
   ]
  },
  {
   "cell_type": "markdown",
   "id": "0530b726",
   "metadata": {},
   "source": [
    "### ***** Run Multivariate in R"
   ]
  },
  {
   "cell_type": "markdown",
   "id": "c11f716c",
   "metadata": {},
   "source": [
    "cervical_trauma_df.to_csv('C12_multifriendly_dataset.csv')"
   ]
  },
  {
   "cell_type": "markdown",
   "id": "aa985812",
   "metadata": {},
   "source": [
    "### Combine Uni and Multivariate"
   ]
  },
  {
   "cell_type": "code",
   "execution_count": 58,
   "id": "7e41f93a",
   "metadata": {},
   "outputs": [
    {
     "name": "stdout",
     "output_type": "stream",
     "text": [
      "Deleted file: C12_CONSECUTIVE_Cases_Univariate_04_17_2025.xlsx\n",
      "Deleted file: C12_CONSECUTIVE_Cases_Multivariate_04_17_2025.xlsx\n"
     ]
    }
   ],
   "source": [
    "Combine_Uni_Multi_Excel_Files(Name, delete=True)"
   ]
  },
  {
   "cell_type": "markdown",
   "id": "5b5f737b",
   "metadata": {},
   "source": [
    "## Fracture Correlation with One Another"
   ]
  },
  {
   "cell_type": "code",
   "execution_count": 22,
   "id": "b69e10b2",
   "metadata": {},
   "outputs": [],
   "source": [
    "fracture_types = columns_to_check\n",
    "\n",
    "\n",
    "fracture_types2 = [\n",
    "    \"C1 Landells Type 1 or 2\",\n",
    "    \"C1 Landells Type 3\",\n",
    "    \"C2 Dens Anderson and D'Alonzo Type 1 or 3\",\n",
    "    \"C2 Dens Anderson and D'Alonzo Type 2\",\n",
    "    \"C1 or C2 transverse foramen fracture\",\n",
    "    \"C2 lateral mass fracture\",\n",
    "    \"C2 Hangman's fracture\",\n",
    "    \"Occipital Condyle Fracture\"\n",
    "]\n"
   ]
  },
  {
   "cell_type": "code",
   "execution_count": 23,
   "id": "63f97671",
   "metadata": {},
   "outputs": [
    {
     "name": "stdout",
     "output_type": "stream",
     "text": [
      "1: C1 Landells Type I ~ C1 Landells Type 2\n",
      "Correlation coefficient: -0.651874647857626\n",
      "P-value: 3.057002958347155e-09\n",
      "Interpretation: The fractures tend to occur in isolation.\n",
      "Percentage for C1 Landells Type I = 0 and C1 Landells Type 2 = 1: 69.23%\n",
      "Percentage for C1 Landells Type I = 1 and C1 Landells Type 2 = 1: 3.7%\n",
      "\n",
      "1: C1 Landells Type I ~ Occipital Condyle Fracture\n",
      "Correlation coefficient: -0.2631174057921088\n",
      "P-value: 0.032801809741708814\n",
      "Interpretation: The fractures tend to occur in isolation.\n",
      "Percentage for C1 Landells Type I = 0 and Occipital Condyle Fracture = 1: 15.38%\n",
      "Percentage for C1 Landells Type I = 1 and Occipital Condyle Fracture = 1: 0.0%\n",
      "\n",
      "1: C1 Landells Type 2 ~ C1 Landells Type 3\n",
      "Correlation coefficient: -0.31922063429064507\n",
      "P-value: 0.008986987774744023\n",
      "Interpretation: The fractures tend to occur in isolation.\n",
      "Percentage for C1 Landells Type 2 = 0 and C1 Landells Type 3 = 1: 34.21%\n",
      "Percentage for C1 Landells Type 2 = 1 and C1 Landells Type 3 = 1: 7.14%\n",
      "\n",
      "1: C1 Landells Type 2 ~ C2 Dens Anderson and D'Alonzo Type 2\n",
      "Correlation coefficient: 0.2806866009173615\n",
      "P-value: 0.02243969874476763\n",
      "Interpretation: The fractures tend to occur together.\n",
      "Percentage for C1 Landells Type 2 = 0 and C2 Dens Anderson and D'Alonzo Type 2 = 1: 39.47%\n",
      "Percentage for C1 Landells Type 2 = 1 and C2 Dens Anderson and D'Alonzo Type 2 = 1: 67.86%\n",
      "\n",
      "1: C1 Landells Type 3 ~ C2 lateral mass fracture\n",
      "Correlation coefficient: 0.27685714042792015\n",
      "P-value: 0.024422966078404884\n",
      "Interpretation: The fractures tend to occur together.\n",
      "Percentage for C1 Landells Type 3 = 0 and C2 lateral mass fracture = 1: 13.73%\n",
      "Percentage for C1 Landells Type 3 = 1 and C2 lateral mass fracture = 1: 40.0%\n",
      "\n",
      "1: C2 Dens Anderson and D'Alonzo Type 2 ~ C2 Dens Anderson and D'Alonzo Type 3\n",
      "Correlation coefficient: -0.5123520231132451\n",
      "P-value: 1.0939534303352694e-05\n",
      "Interpretation: The fractures tend to occur in isolation.\n",
      "Percentage for C2 Dens Anderson and D'Alonzo Type 2 = 0 and C2 Dens Anderson and D'Alonzo Type 3 = 1: 46.88%\n",
      "Percentage for C2 Dens Anderson and D'Alonzo Type 2 = 1 and C2 Dens Anderson and D'Alonzo Type 3 = 1: 2.94%\n",
      "\n",
      "1: C2 Dens Anderson and D'Alonzo Type 2 ~ C2 transverse foramen fracture\n",
      "Correlation coefficient: -0.5348436148143607\n",
      "P-value: 3.7239988471359285e-06\n",
      "Interpretation: The fractures tend to occur in isolation.\n",
      "Percentage for C2 Dens Anderson and D'Alonzo Type 2 = 0 and C2 transverse foramen fracture = 1: 43.75%\n",
      "Percentage for C2 Dens Anderson and D'Alonzo Type 2 = 1 and C2 transverse foramen fracture = 1: 0.0%\n",
      "\n",
      "1: C2 Dens Anderson and D'Alonzo Type 2 ~ C2 lateral mass fracture\n",
      "Correlation coefficient: -0.5105028967079127\n",
      "P-value: 1.1912758034195901e-05\n",
      "Interpretation: The fractures tend to occur in isolation.\n",
      "Percentage for C2 Dens Anderson and D'Alonzo Type 2 = 0 and C2 lateral mass fracture = 1: 40.62%\n",
      "Percentage for C2 Dens Anderson and D'Alonzo Type 2 = 1 and C2 lateral mass fracture = 1: 0.0%\n",
      "\n",
      "1: C2 transverse foramen fracture ~ C2 lateral mass fracture\n",
      "Correlation coefficient: 0.3953508990384977\n",
      "P-value: 0.0010182602792390342\n",
      "Interpretation: The fractures tend to occur together.\n",
      "Percentage for C2 transverse foramen fracture = 0 and C2 lateral mass fracture = 1: 11.54%\n",
      "Percentage for C2 transverse foramen fracture = 1 and C2 lateral mass fracture = 1: 50.0%\n",
      "\n",
      "1: C2 transverse foramen fracture ~ Occipital Condyle Fracture\n",
      "Correlation coefficient: 0.3516054232038716\n",
      "P-value: 0.0037924290185059714\n",
      "Interpretation: The fractures tend to occur together.\n",
      "Percentage for C2 transverse foramen fracture = 0 and Occipital Condyle Fracture = 1: 3.85%\n",
      "Percentage for C2 transverse foramen fracture = 1 and Occipital Condyle Fracture = 1: 28.57%\n",
      "\n"
     ]
    }
   ],
   "source": [
    "#import rpy2.robjects as ro\n",
    "#from rpy2.robjects import numpy2ri\n",
    "\n",
    "n = 1\n",
    "for i in range(len(fracture_types)):\n",
    "    fracture = fracture_types[i]\n",
    "    for j in range(i + 1, len(fracture_types)):\n",
    "        fracture2 = fracture_types[j]\n",
    "        #if not ((\"C1\" in fracture and \"C1\" in fracture2) or (\"C2\" in fracture and \"C2\" in fracture2)):\n",
    "        x = cervical_trauma_df[fracture].astype(float)  # Independent variable\n",
    "        y = cervical_trauma_df[fracture2].astype(float)  # Dependent variable\n",
    "\n",
    "        # Perform linear regression\n",
    "        slope, intercept, r_value, p_value, std_err = linregress(x, y)\n",
    "\n",
    "        if p_value < 0.05:\n",
    "            print(f\"{n}: {fracture} ~ {fracture2}\")\n",
    "            print(f\"Correlation coefficient: {r_value}\")\n",
    "            print(f\"P-value: {p_value}\")\n",
    "\n",
    "            # Interpretation of the correlation coefficient\n",
    "            if r_value > 0:\n",
    "                print(\"Interpretation: The fractures tend to occur together.\")\n",
    "            elif r_value < 0:\n",
    "                print(\"Interpretation: The fractures tend to occur in isolation.\")\n",
    "            else:\n",
    "                print(\"Interpretation: There is no significant relationship between the fractures.\")\n",
    "\n",
    "            # Calculate and print the percentage for both fracture types\n",
    "            count_01 = (cervical_trauma_df[fracture] == 0) & (cervical_trauma_df[fracture2] == 1)\n",
    "            count_11 = (cervical_trauma_df[fracture] == 1) & (cervical_trauma_df[fracture2] == 1)\n",
    "\n",
    "            percent_01 = str(round(count_01.sum() / (cervical_trauma_df[fracture] == 0).sum() * 100, 2))\n",
    "            percent_11 = str(round(count_11.sum() / (cervical_trauma_df[fracture] == 1).sum() * 100, 2))\n",
    "\n",
    "            print(f\"Percentage for {fracture} = 0 and {fracture2} = 1: {percent_01}%\")\n",
    "            print(f\"Percentage for {fracture} = 1 and {fracture2} = 1: {percent_11}%\")\n",
    "            print(\"\")\n",
    "                "
   ]
  },
  {
   "cell_type": "code",
   "execution_count": null,
   "id": "ff7b50aa",
   "metadata": {},
   "outputs": [],
   "source": []
  },
  {
   "cell_type": "code",
   "execution_count": 33,
   "id": "6ed73fc3",
   "metadata": {},
   "outputs": [
    {
     "name": "stdout",
     "output_type": "stream",
     "text": [
      "Results DataFrame:\n",
      "                                      C1 Landells Type I  C1 Landells Type 2  \\\n",
      "C1 Landells Type I                                   NaN           -0.651875   \n",
      "C1 Landells Type 2                             -0.651875                 NaN   \n",
      "C1 Landells Type 3                                   NaN           -0.319221   \n",
      "C1 transverse foramen fracture                       NaN                 NaN   \n",
      "C2 Dens Anderson and D'Alonzo Type 1                 NaN                 NaN   \n",
      "C2 Dens Anderson and D'Alonzo Type 2                 NaN            0.280687   \n",
      "C2 Dens Anderson and D'Alonzo Type 3                 NaN                 NaN   \n",
      "C2 transverse foramen fracture                       NaN                 NaN   \n",
      "C2 lateral mass fracture                             NaN                 NaN   \n",
      "C2 Hangman's fracture                                NaN                 NaN   \n",
      "Occipital Condyle Fracture                     -0.263117                 NaN   \n",
      "\n",
      "                                      C1 Landells Type 3  \\\n",
      "C1 Landells Type I                                   NaN   \n",
      "C1 Landells Type 2                             -0.319221   \n",
      "C1 Landells Type 3                                   NaN   \n",
      "C1 transverse foramen fracture                       NaN   \n",
      "C2 Dens Anderson and D'Alonzo Type 1                 NaN   \n",
      "C2 Dens Anderson and D'Alonzo Type 2                 NaN   \n",
      "C2 Dens Anderson and D'Alonzo Type 3                 NaN   \n",
      "C2 transverse foramen fracture                       NaN   \n",
      "C2 lateral mass fracture                        0.276857   \n",
      "C2 Hangman's fracture                                NaN   \n",
      "Occipital Condyle Fracture                           NaN   \n",
      "\n",
      "                                      C1 transverse foramen fracture  \\\n",
      "C1 Landells Type I                                               NaN   \n",
      "C1 Landells Type 2                                               NaN   \n",
      "C1 Landells Type 3                                               NaN   \n",
      "C1 transverse foramen fracture                                   NaN   \n",
      "C2 Dens Anderson and D'Alonzo Type 1                             NaN   \n",
      "C2 Dens Anderson and D'Alonzo Type 2                             NaN   \n",
      "C2 Dens Anderson and D'Alonzo Type 3                             NaN   \n",
      "C2 transverse foramen fracture                                   NaN   \n",
      "C2 lateral mass fracture                                         NaN   \n",
      "C2 Hangman's fracture                                            NaN   \n",
      "Occipital Condyle Fracture                                       NaN   \n",
      "\n",
      "                                      C2 Dens Anderson and D'Alonzo Type 1  \\\n",
      "C1 Landells Type I                                                     NaN   \n",
      "C1 Landells Type 2                                                     NaN   \n",
      "C1 Landells Type 3                                                     NaN   \n",
      "C1 transverse foramen fracture                                         NaN   \n",
      "C2 Dens Anderson and D'Alonzo Type 1                                   NaN   \n",
      "C2 Dens Anderson and D'Alonzo Type 2                                   NaN   \n",
      "C2 Dens Anderson and D'Alonzo Type 3                                   NaN   \n",
      "C2 transverse foramen fracture                                         NaN   \n",
      "C2 lateral mass fracture                                               NaN   \n",
      "C2 Hangman's fracture                                                  NaN   \n",
      "Occipital Condyle Fracture                                             NaN   \n",
      "\n",
      "                                      C2 Dens Anderson and D'Alonzo Type 2  \\\n",
      "C1 Landells Type I                                                     NaN   \n",
      "C1 Landells Type 2                                                0.280687   \n",
      "C1 Landells Type 3                                                     NaN   \n",
      "C1 transverse foramen fracture                                         NaN   \n",
      "C2 Dens Anderson and D'Alonzo Type 1                                   NaN   \n",
      "C2 Dens Anderson and D'Alonzo Type 2                                   NaN   \n",
      "C2 Dens Anderson and D'Alonzo Type 3                             -0.512352   \n",
      "C2 transverse foramen fracture                                   -0.534844   \n",
      "C2 lateral mass fracture                                         -0.510503   \n",
      "C2 Hangman's fracture                                                  NaN   \n",
      "Occipital Condyle Fracture                                             NaN   \n",
      "\n",
      "                                      C2 Dens Anderson and D'Alonzo Type 3  \\\n",
      "C1 Landells Type I                                                     NaN   \n",
      "C1 Landells Type 2                                                     NaN   \n",
      "C1 Landells Type 3                                                     NaN   \n",
      "C1 transverse foramen fracture                                         NaN   \n",
      "C2 Dens Anderson and D'Alonzo Type 1                                   NaN   \n",
      "C2 Dens Anderson and D'Alonzo Type 2                             -0.512352   \n",
      "C2 Dens Anderson and D'Alonzo Type 3                                   NaN   \n",
      "C2 transverse foramen fracture                                         NaN   \n",
      "C2 lateral mass fracture                                               NaN   \n",
      "C2 Hangman's fracture                                                  NaN   \n",
      "Occipital Condyle Fracture                                             NaN   \n",
      "\n",
      "                                      C2 transverse foramen fracture  \\\n",
      "C1 Landells Type I                                               NaN   \n",
      "C1 Landells Type 2                                               NaN   \n",
      "C1 Landells Type 3                                               NaN   \n",
      "C1 transverse foramen fracture                                   NaN   \n",
      "C2 Dens Anderson and D'Alonzo Type 1                             NaN   \n",
      "C2 Dens Anderson and D'Alonzo Type 2                       -0.534844   \n",
      "C2 Dens Anderson and D'Alonzo Type 3                             NaN   \n",
      "C2 transverse foramen fracture                                   NaN   \n",
      "C2 lateral mass fracture                                    0.395351   \n",
      "C2 Hangman's fracture                                            NaN   \n",
      "Occipital Condyle Fracture                                  0.351605   \n",
      "\n",
      "                                      C2 lateral mass fracture  \\\n",
      "C1 Landells Type I                                         NaN   \n",
      "C1 Landells Type 2                                         NaN   \n",
      "C1 Landells Type 3                                    0.276857   \n",
      "C1 transverse foramen fracture                             NaN   \n",
      "C2 Dens Anderson and D'Alonzo Type 1                       NaN   \n",
      "C2 Dens Anderson and D'Alonzo Type 2                 -0.510503   \n",
      "C2 Dens Anderson and D'Alonzo Type 3                       NaN   \n",
      "C2 transverse foramen fracture                        0.395351   \n",
      "C2 lateral mass fracture                                   NaN   \n",
      "C2 Hangman's fracture                                      NaN   \n",
      "Occipital Condyle Fracture                                 NaN   \n",
      "\n",
      "                                      C2 Hangman's fracture  \\\n",
      "C1 Landells Type I                                      NaN   \n",
      "C1 Landells Type 2                                      NaN   \n",
      "C1 Landells Type 3                                      NaN   \n",
      "C1 transverse foramen fracture                          NaN   \n",
      "C2 Dens Anderson and D'Alonzo Type 1                    NaN   \n",
      "C2 Dens Anderson and D'Alonzo Type 2                    NaN   \n",
      "C2 Dens Anderson and D'Alonzo Type 3                    NaN   \n",
      "C2 transverse foramen fracture                          NaN   \n",
      "C2 lateral mass fracture                                NaN   \n",
      "C2 Hangman's fracture                                   NaN   \n",
      "Occipital Condyle Fracture                              NaN   \n",
      "\n",
      "                                      Occipital Condyle Fracture  \n",
      "C1 Landells Type I                                     -0.263117  \n",
      "C1 Landells Type 2                                           NaN  \n",
      "C1 Landells Type 3                                           NaN  \n",
      "C1 transverse foramen fracture                               NaN  \n",
      "C2 Dens Anderson and D'Alonzo Type 1                         NaN  \n",
      "C2 Dens Anderson and D'Alonzo Type 2                         NaN  \n",
      "C2 Dens Anderson and D'Alonzo Type 3                         NaN  \n",
      "C2 transverse foramen fracture                          0.351605  \n",
      "C2 lateral mass fracture                                     NaN  \n",
      "C2 Hangman's fracture                                        NaN  \n",
      "Occipital Condyle Fracture                                   NaN  \n",
      "Data types:\n",
      "C1 Landells Type I                      float64\n",
      "C1 Landells Type 2                      float64\n",
      "C1 Landells Type 3                      float64\n",
      "C1 transverse foramen fracture          float64\n",
      "C2 Dens Anderson and D'Alonzo Type 1    float64\n",
      "C2 Dens Anderson and D'Alonzo Type 2    float64\n",
      "C2 Dens Anderson and D'Alonzo Type 3    float64\n",
      "C2 transverse foramen fracture          float64\n",
      "C2 lateral mass fracture                float64\n",
      "C2 Hangman's fracture                   float64\n",
      "Occipital Condyle Fracture              float64\n",
      "dtype: object\n"
     ]
    },
    {
     "data": {
      "text/plain": [
       "Text(0.5, 1.0, 'Heatmap of Significant Fracture Relationships')"
      ]
     },
     "execution_count": 33,
     "metadata": {},
     "output_type": "execute_result"
    },
    {
     "data": {
      "image/png": "[encoded data removed]",
      "text/plain": [
       "<Figure size 720x576 with 2 Axes>"
      ]
     },
     "metadata": {
      "needs_background": "light"
     },
     "output_type": "display_data"
    },
    {
     "data": {
      "image/png": "[encoded data removed]",
      "text/plain": [
       "<Figure size 720x576 with 2 Axes>"
      ]
     },
     "metadata": {
      "needs_background": "light"
     },
     "output_type": "display_data"
    }
   ],
   "source": [
    "results_df = pd.DataFrame(index=fracture_types, columns=fracture_types)\n",
    "\n",
    "for i in range(len(fracture_types)):\n",
    "    fracture = fracture_types[i]\n",
    "    for j in range(i + 1, len(fracture_types)):\n",
    "        fracture2 = fracture_types[j]\n",
    "        #if not ((\"C1\" in fracture and \"C1\" in fracture2) or (\"C2\" in fracture and \"C2\" in fracture2)):\n",
    "        x = cervical_trauma_df[fracture].astype(float)\n",
    "        y = cervical_trauma_df[fracture2].astype(float)\n",
    "\n",
    "        # Perform linear regression\n",
    "        slope, intercept, r_value, p_value, std_err = linregress(x, y)\n",
    "\n",
    "        if p_value < 0.05:  # Only consider significant results\n",
    "            results_df.loc[fracture, fracture2] = r_value\n",
    "            results_df.loc[fracture2, fracture] = r_value  # Mirror the value\n",
    "        else:\n",
    "            results_df.loc[fracture, fracture2] = np.nan  # Fill with NaN for non-significant\n",
    "            results_df.loc[fracture2, fracture] = np.nan  # Mirror the NaN\n",
    "\n",
    "results_df = results_df.apply(pd.to_numeric, errors='coerce')\n",
    "\n",
    "print(\"Results DataFrame:\")\n",
    "print(results_df)\n",
    "print(\"Data types:\")\n",
    "print(results_df.dtypes)\n",
    "\n",
    "\n",
    "# Create a heatmap\n",
    "plt.figure(figsize=(10, 8))\n",
    "sns.heatmap(results_df, annot=True, cmap='coolwarm', center=0, cbar_kws={\"label\": \"Correlation Coefficient\"},\n",
    "            mask=results_df.isnull(), linewidths=0.5)\n",
    "\n",
    "\n",
    "\n",
    "# Customize the heatmap\n",
    "\n",
    "plt.figure(figsize=(10, 8))\n",
    "sns.heatmap(\n",
    "    results_df, \n",
    "    annot=True, \n",
    "    cmap='coolwarm', \n",
    "    center=0, \n",
    "    cbar_kws={\"label\": \"Correlation Coefficient\"},\n",
    "    mask=results_df.isnull(), \n",
    "    linewidths=0.5, \n",
    "    linecolor='black',\n",
    "    square = False# Color of the grid lines\n",
    ")\n",
    "plt.title('Heatmap of Significant Fracture Relationships')"
   ]
  },
  {
   "cell_type": "code",
   "execution_count": 75,
   "id": "cfd69605",
   "metadata": {},
   "outputs": [
    {
     "name": "stdout",
     "output_type": "stream",
     "text": [
      "Calculating Pearson correlation for C1 Landells Type 1 or 2 and C1 Landells Type 3\n",
      "-0.681746656753218 2.946608038602843e-10\n",
      "Calculating Pearson correlation for C1 Landells Type 1 or 2 and C2 Dens Anderson and D'Alonzo Type 1 or 3\n",
      "0.11226255234242725 0.3694836584075133\n",
      "Calculating Pearson correlation for C1 Landells Type 1 or 2 and C2 Dens Anderson and D'Alonzo Type 2\n",
      "0.09289506695219225 0.45816611159546433\n",
      "Calculating Pearson correlation for C1 Landells Type 1 or 2 and C1 or C2 transverse foramen fracture\n",
      "-0.09999999999999998 0.4243559820586625\n",
      "Calculating Pearson correlation for C1 Landells Type 1 or 2 and C2 lateral mass fracture\n",
      "-0.26040668824617663 0.03471094552417489\n",
      "Calculating Pearson correlation for C1 Landells Type 1 or 2 and C2 Hangman's fracture\n",
      "0.08333333333333333 0.5059056600840006\n",
      "Calculating Pearson correlation for C1 Landells Type 1 or 2 and Occipital Condyle Fracture\n",
      "-0.3975231959999626 0.0009493349463079046\n",
      "Calculating Pearson correlation for C1 Landells Type 3 and C2 Dens Anderson and D'Alonzo Type 1 or 3\n",
      "-0.007380124046167465 0.9531021494172103\n",
      "Calculating Pearson correlation for C1 Landells Type 3 and C2 Dens Anderson and D'Alonzo Type 2\n",
      "-0.19730011566174613 0.11230885376360897\n",
      "Calculating Pearson correlation for C1 Landells Type 3 and C1 or C2 transverse foramen fracture\n",
      "-0.05368754921931592 0.6685527107397505\n",
      "Calculating Pearson correlation for C1 Landells Type 3 and C2 lateral mass fracture\n",
      "0.27685714042792 0.024422966078404912\n",
      "Calculating Pearson correlation for C1 Landells Type 3 and C2 Hangman's fracture\n",
      "-0.09587062360592127 0.4438300883023003\n",
      "Calculating Pearson correlation for C1 Landells Type 3 and Occipital Condyle Fracture\n",
      "0.20579830217101064 0.09736470406802139\n",
      "Calculating Pearson correlation for C2 Dens Anderson and D'Alonzo Type 1 or 3 and C2 Dens Anderson and D'Alonzo Type 2\n",
      "-0.5631464150679834 8.55217831322427e-07\n",
      "Calculating Pearson correlation for C2 Dens Anderson and D'Alonzo Type 1 or 3 and C1 or C2 transverse foramen fracture\n",
      "-0.1082531754730548 0.3869312007023312\n",
      "Calculating Pearson correlation for C2 Dens Anderson and D'Alonzo Type 1 or 3 and C2 lateral mass fracture\n",
      "-0.046659063586875174 0.7098778177660294\n",
      "Calculating Pearson correlation for C2 Dens Anderson and D'Alonzo Type 1 or 3 and C2 Hangman's fracture\n",
      "-0.10825317547305481 0.3869312007023301\n",
      "Calculating Pearson correlation for C2 Dens Anderson and D'Alonzo Type 1 or 3 and Occipital Condyle Fracture\n",
      "0.04303314829119353 0.7315366165925257\n",
      "Calculating Pearson correlation for C2 Dens Anderson and D'Alonzo Type 2 and C1 or C2 transverse foramen fracture\n",
      "-0.4416088567419602 0.00020575191431404201\n",
      "Calculating Pearson correlation for C2 Dens Anderson and D'Alonzo Type 2 and C2 lateral mass fracture\n",
      "-0.5105028967079127 1.1912758034195922e-05\n",
      "Calculating Pearson correlation for C2 Dens Anderson and D'Alonzo Type 2 and C2 Hangman's fracture\n",
      "-0.005359330785703399 0.9659344555738189\n",
      "Calculating Pearson correlation for C2 Dens Anderson and D'Alonzo Type 2 and Occipital Condyle Fracture\n",
      "-0.220502434293619 0.07522142707461961\n",
      "Calculating Pearson correlation for C1 or C2 transverse foramen fracture and C2 lateral mass fracture\n",
      "0.34212051110963193 0.0049283613959409615\n",
      "Calculating Pearson correlation for C1 or C2 transverse foramen fracture and C2 Hangman's fracture\n",
      "0.10624999999999997 0.39582912319012\n",
      "Calculating Pearson correlation for C1 or C2 transverse foramen fracture and Occipital Condyle Fracture\n",
      "0.31304951684997057 0.010487918867191665\n",
      "Calculating Pearson correlation for C2 lateral mass fracture and C2 Hangman's fracture\n",
      "-0.08755052449655937 0.48454080229995417\n",
      "Calculating Pearson correlation for C2 lateral mass fracture and Occipital Condyle Fracture\n",
      "0.10842586573296033 0.38616974621889993\n",
      "Calculating Pearson correlation for C2 Hangman's fracture and Occipital Condyle Fracture\n",
      "-0.05590169943749476 0.6557278390441383\n",
      "Results DataFrame:\n",
      "                                           C1 Landells Type 1 or 2  \\\n",
      "C1 Landells Type 1 or 2                                        NaN   \n",
      "C1 Landells Type 3                                       -0.681747   \n",
      "C2 Dens Anderson and D'Alonzo Type 1 or 3                      NaN   \n",
      "C2 Dens Anderson and D'Alonzo Type 2                           NaN   \n",
      "C1 or C2 transverse foramen fracture                           NaN   \n",
      "C2 lateral mass fracture                                 -0.260407   \n",
      "C2 Hangman's fracture                                          NaN   \n",
      "Occipital Condyle Fracture                               -0.397523   \n",
      "\n",
      "                                           C1 Landells Type 3  \\\n",
      "C1 Landells Type 1 or 2                             -0.681747   \n",
      "C1 Landells Type 3                                        NaN   \n",
      "C2 Dens Anderson and D'Alonzo Type 1 or 3                 NaN   \n",
      "C2 Dens Anderson and D'Alonzo Type 2                      NaN   \n",
      "C1 or C2 transverse foramen fracture                      NaN   \n",
      "C2 lateral mass fracture                             0.276857   \n",
      "C2 Hangman's fracture                                     NaN   \n",
      "Occipital Condyle Fracture                                NaN   \n",
      "\n",
      "                                           C2 Dens Anderson and D'Alonzo Type 1 or 3  \\\n",
      "C1 Landells Type 1 or 2                                                          NaN   \n",
      "C1 Landells Type 3                                                               NaN   \n",
      "C2 Dens Anderson and D'Alonzo Type 1 or 3                                        NaN   \n",
      "C2 Dens Anderson and D'Alonzo Type 2                                       -0.563146   \n",
      "C1 or C2 transverse foramen fracture                                             NaN   \n",
      "C2 lateral mass fracture                                                         NaN   \n",
      "C2 Hangman's fracture                                                            NaN   \n",
      "Occipital Condyle Fracture                                                       NaN   \n",
      "\n",
      "                                           C2 Dens Anderson and D'Alonzo Type 2  \\\n",
      "C1 Landells Type 1 or 2                                                     NaN   \n",
      "C1 Landells Type 3                                                          NaN   \n",
      "C2 Dens Anderson and D'Alonzo Type 1 or 3                             -0.563146   \n",
      "C2 Dens Anderson and D'Alonzo Type 2                                        NaN   \n",
      "C1 or C2 transverse foramen fracture                                  -0.441609   \n",
      "C2 lateral mass fracture                                              -0.510503   \n",
      "C2 Hangman's fracture                                                       NaN   \n",
      "Occipital Condyle Fracture                                                  NaN   \n",
      "\n",
      "                                           C1 or C2 transverse foramen fracture  \\\n",
      "C1 Landells Type 1 or 2                                                     NaN   \n",
      "C1 Landells Type 3                                                          NaN   \n",
      "C2 Dens Anderson and D'Alonzo Type 1 or 3                                   NaN   \n",
      "C2 Dens Anderson and D'Alonzo Type 2                                  -0.441609   \n",
      "C1 or C2 transverse foramen fracture                                        NaN   \n",
      "C2 lateral mass fracture                                               0.342121   \n",
      "C2 Hangman's fracture                                                       NaN   \n",
      "Occipital Condyle Fracture                                             0.313050   \n",
      "\n",
      "                                           C2 lateral mass fracture  \\\n",
      "C1 Landells Type 1 or 2                                   -0.260407   \n",
      "C1 Landells Type 3                                         0.276857   \n",
      "C2 Dens Anderson and D'Alonzo Type 1 or 3                       NaN   \n",
      "C2 Dens Anderson and D'Alonzo Type 2                      -0.510503   \n",
      "C1 or C2 transverse foramen fracture                       0.342121   \n",
      "C2 lateral mass fracture                                        NaN   \n",
      "C2 Hangman's fracture                                           NaN   \n",
      "Occipital Condyle Fracture                                      NaN   \n",
      "\n",
      "                                           C2 Hangman's fracture  \\\n",
      "C1 Landells Type 1 or 2                                      NaN   \n",
      "C1 Landells Type 3                                           NaN   \n",
      "C2 Dens Anderson and D'Alonzo Type 1 or 3                    NaN   \n",
      "C2 Dens Anderson and D'Alonzo Type 2                         NaN   \n",
      "C1 or C2 transverse foramen fracture                         NaN   \n",
      "C2 lateral mass fracture                                     NaN   \n",
      "C2 Hangman's fracture                                        NaN   \n",
      "Occipital Condyle Fracture                                   NaN   \n",
      "\n",
      "                                           Occipital Condyle Fracture  \n",
      "C1 Landells Type 1 or 2                                     -0.397523  \n",
      "C1 Landells Type 3                                                NaN  \n",
      "C2 Dens Anderson and D'Alonzo Type 1 or 3                         NaN  \n",
      "C2 Dens Anderson and D'Alonzo Type 2                              NaN  \n",
      "C1 or C2 transverse foramen fracture                         0.313050  \n",
      "C2 lateral mass fracture                                          NaN  \n",
      "C2 Hangman's fracture                                             NaN  \n",
      "Occipital Condyle Fracture                                        NaN  \n"
     ]
    },
    {
     "data": {
      "image/png": "[encoded data removed]",
      "text/plain": [
       "<Figure size 720x576 with 2 Axes>"
      ]
     },
     "metadata": {
      "needs_background": "light"
     },
     "output_type": "display_data"
    }
   ],
   "source": [
    "import pandas as pd\n",
    "import numpy as np\n",
    "import scipy.stats as stats\n",
    "import seaborn as sns\n",
    "import matplotlib.pyplot as plt\n",
    "\n",
    "# Define the replacement dictionary\n",
    "replacement_dict = {\n",
    "    \"C1 Landells Type 1 or 2\": \"C1 Landells Type I or II\",\n",
    "    \"C1 Landells Type 3\": \"C1 Landells Type III\",\n",
    "    \"C2 Dens Anderson and D'Alonzo Type 1 or 3\": \"C2 Odontoid Type I or III\",\n",
    "    \"C2 Dens Anderson and D'Alonzo Type 2\": \"C2 Odontoid Type II\"\n",
    "}\n",
    "\n",
    "# Initialize an empty DataFrame to store the results\n",
    "results_df = pd.DataFrame(index=fracture_types2, columns=fracture_types2)\n",
    "\n",
    "# Loop through all pairs of fractures to calculate Pearson's correlation and check for significance\n",
    "for i in range(len(fracture_types2)):\n",
    "    fracture = fracture_types2[i]\n",
    "    for j in range(i+1, len(fracture_types2)):\n",
    "        fracture2 = fracture_types2[j]\n",
    "        \n",
    "        print(f'Calculating Pearson correlation for {fracture} and {fracture2}')\n",
    "        \n",
    "        # Convert data to numeric, coercing errors to NaN (in case there are non-numeric values)\n",
    "        x = pd.to_numeric(cervical_trauma_df[fracture], errors='coerce')\n",
    "        y = pd.to_numeric(cervical_trauma_df[fracture2], errors='coerce')\n",
    "        \n",
    "        # Calculate Pearson correlation coefficient and p-value\n",
    "        r_value, p_value = stats.pearsonr(x, y)\n",
    "        print(r_value, p_value)\n",
    "        # Store the r-value (even for non-significant correlations)\n",
    "        if p_value < 0.05:  # Only consider significant results\n",
    "            results_df.loc[fracture, fracture2] = r_value\n",
    "            results_df.loc[fracture2, fracture] = r_value  # Mirror the value\n",
    "        else:\n",
    "            results_df.loc[fracture, fracture2] = np.nan  # Fill with NaN for non-significant\n",
    "            results_df.loc[fracture2, fracture] = np.nan  # Mirror the value\n",
    "\n",
    "# Ensure the results dataframe is numeric and coercing errors to NaN\n",
    "results_df = results_df.apply(pd.to_numeric, errors='coerce')\n",
    "\n",
    "# Display the results dataframe\n",
    "print(\"Results DataFrame:\")\n",
    "print(results_df)\n",
    "\n",
    "# Set font properties for plot\n",
    "font_properties = {'family': 'Arial', 'weight': 'bold'}\n",
    "\n",
    "# Create an annotation matrix where only significant values are shown\n",
    "annot_matrix = results_df.copy()\n",
    "\n",
    "# Replace non-significant values with None for annotation (i.e., leave them blank)\n",
    "for i in range(len(fracture_types2)):\n",
    "    for j in range(i+1, len(fracture_types2)):\n",
    "        if i != j:  # Exclude diagonal\n",
    "            # Calculate p-value for the correlation\n",
    "            x = pd.to_numeric(cervical_trauma_df[fracture_types2[i]], errors='coerce')\n",
    "            y = pd.to_numeric(cervical_trauma_df[fracture_types2[j]], errors='coerce')\n",
    "            _, p_value = stats.pearsonr(x, y)\n",
    "            # If the p-value is >= 0.05, set the annotation to None for blank\n",
    "            if p_value >= 0.05:\n",
    "                annot_matrix.iloc[i, j] = \"\"  # Set non-significant values to blank\n",
    "\n",
    "# Create a heatmap of the significant Pearson correlation coefficients\n",
    "plt.figure(figsize=(10, 8))\n",
    "\n",
    "# Replace fracture labels according to the replacement dictionary\n",
    "updated_labels = [replacement_dict.get(label, label) for label in fracture_types2]\n",
    "\n",
    "# Plot the heatmap\n",
    "heatmap = sns.heatmap(\n",
    "    results_df, \n",
    "    annot=annot_matrix,  # Only annotate significant values (non-significant will be \"\")\n",
    "    cmap='coolwarm', \n",
    "    center=0, \n",
    "    cbar_kws={  # Colorbar properties without fontsize\n",
    "        \"label\": \"Pearson Correlation Coefficient\",  # Label text for colorbar\n",
    "    },\n",
    "    annot_kws={\"size\": 14, \"weight\": 'bold', 'family': 'Arial'},  # Annotation font size, weight, and family\n",
    "    xticklabels=updated_labels,  # Use updated fracture labels for x-axis\n",
    "    yticklabels=updated_labels,  # Use updated fracture labels for y-axis\n",
    "    square=False,\n",
    "    linewidths=0.5, \n",
    "    linecolor='black'\n",
    ")\n",
    "\n",
    "# Add a dashed line from the top-left corner to the bottom-right corner\n",
    "plt.plot([0, len(fracture_types2)], [0, len(fracture_types2)], color='black', linestyle='--', linewidth=2)\n",
    "\n",
    "# Add a border around the heatmap (making sure all spines are visible and styled correctly)\n",
    "ax = plt.gca()  # Get current axes\n",
    "for _, spine in ax.spines.items():\n",
    "    spine.set_visible(True)\n",
    "    spine.set_linewidth(2)  # Set the thickness of the border\n",
    "    spine.set_edgecolor('black')  # Set the color of the border\n",
    "\n",
    "# Adjust font sizes for the title and axis labels\n",
    "#plt.title('Heatmap of Significant Pearson Correlation Between Fractures', fontsize=16, **font_properties)\n",
    "#plt.xlabel('Fracture Type', fontsize=16, **font_properties)\n",
    "#plt.ylabel('Fracture Type', fontsize=16, **font_properties)\n",
    "\n",
    "# Update tick label font properties\n",
    "plt.xticks(fontsize=16, fontweight='bold', family='Arial')\n",
    "plt.yticks(fontsize=16, fontweight='bold', family='Arial')\n",
    "\n",
    "# After creating the heatmap, update colorbar label font properties\n",
    "cbar = heatmap.collections[0].colorbar\n",
    "cbar.set_label(\"Pearson Correlation Coefficient\", fontsize=14, fontweight='bold', family='Arial')\n",
    "\n",
    "# Show the plot\n",
    "plt.show()\n"
   ]
  },
  {
   "cell_type": "code",
   "execution_count": 76,
   "id": "c70678f9",
   "metadata": {},
   "outputs": [
    {
     "data": {
      "text/html": [
       "<div>\n",
       "<style scoped>\n",
       "    .dataframe tbody tr th:only-of-type {\n",
       "        vertical-align: middle;\n",
       "    }\n",
       "\n",
       "    .dataframe tbody tr th {\n",
       "        vertical-align: top;\n",
       "    }\n",
       "\n",
       "    .dataframe thead th {\n",
       "        text-align: right;\n",
       "    }\n",
       "</style>\n",
       "<table border=\"1\" class=\"dataframe\">\n",
       "  <thead>\n",
       "    <tr style=\"text-align: right;\">\n",
       "      <th>C1 Landells Type 1 or 2</th>\n",
       "      <th>0</th>\n",
       "      <th>1</th>\n",
       "    </tr>\n",
       "    <tr>\n",
       "      <th>C2 Dens Anderson and D'Alonzo Type 2</th>\n",
       "      <th></th>\n",
       "      <th></th>\n",
       "    </tr>\n",
       "  </thead>\n",
       "  <tbody>\n",
       "    <tr>\n",
       "      <th>0.0</th>\n",
       "      <td>7</td>\n",
       "      <td>25</td>\n",
       "    </tr>\n",
       "    <tr>\n",
       "      <th>1.0</th>\n",
       "      <td>5</td>\n",
       "      <td>29</td>\n",
       "    </tr>\n",
       "  </tbody>\n",
       "</table>\n",
       "</div>"
      ],
      "text/plain": [
       "C1 Landells Type 1 or 2               0   1\n",
       "C2 Dens Anderson and D'Alonzo Type 2       \n",
       "0.0                                   7  25\n",
       "1.0                                   5  29"
      ]
     },
     "execution_count": 76,
     "metadata": {},
     "output_type": "execute_result"
    }
   ],
   "source": [
    "pd.crosstab(cervical_trauma_df[\"C2 Dens Anderson and D'Alonzo Type 2\"], cervical_trauma_df[\"C1 Landells Type 1 or 2\"])"
   ]
  },
  {
   "cell_type": "code",
   "execution_count": 74,
   "id": "7af8871c",
   "metadata": {},
   "outputs": [
    {
     "name": "stdout",
     "output_type": "stream",
     "text": [
      "     C1 Landells Type 1 or 2  C1 Landells Type 3  \\\n",
      "0.0                        5                  29   \n",
      "1.0                       29                   5   \n",
      "\n",
      "     C2 Dens Anderson and D'Alonzo Type 1 or 3  \\\n",
      "0.0                                         33   \n",
      "1.0                                          1   \n",
      "\n",
      "     C2 Dens Anderson and D'Alonzo Type 2  \\\n",
      "0.0                                   NaN   \n",
      "1.0                                  34.0   \n",
      "\n",
      "     C1 or C2 transverse foramen fracture  C2 lateral mass fracture  \\\n",
      "0.0                                    32                      34.0   \n",
      "1.0                                     2                       NaN   \n",
      "\n",
      "     C2 Hangman's fracture  Occipital Condyle Fracture  \n",
      "0.0                     33                          33  \n",
      "1.0                      1                           1  \n"
     ]
    }
   ],
   "source": [
    "# Filter the DataFrame where 'C2 Dens Anderson and D\\'Alonzo Type 2' is 1\n",
    "filtered_df = cervical_trauma_df[cervical_trauma_df[\"C2 Dens Anderson and D'Alonzo Type 2\"] == 1]\n",
    "\n",
    "# List of fracture types to check\n",
    "other_fracture_types2 = [\n",
    "    \"C1 Landells Type 1 or 2\",\n",
    "    \"C1 Landells Type 3\",\n",
    "    \"C2 Dens Anderson and D'Alonzo Type 1 or 3\",\n",
    "    \"C1 or C2 transverse foramen fracture\",\n",
    "    \"C2 lateral mass fracture\",\n",
    "    \"C2 Hangman's fracture\",\n",
    "    \"Occipital Condyle Fracture\"\n",
    "]\n",
    "\n",
    "# Get value counts for each fracture type in the filtered DataFrame\n",
    "value_counts = filtered_df[fracture_types2].apply(pd.Series.value_counts, axis=0)\n",
    "\n",
    "# Display the result\n",
    "print(value_counts)\n"
   ]
  },
  {
   "cell_type": "code",
   "execution_count": null,
   "id": "2fc8a122",
   "metadata": {},
   "outputs": [],
   "source": []
  }
 ],
 "metadata": {
  "kernelspec": {
   "display_name": "Python 3 (ipykernel)",
   "language": "python",
   "name": "python3"
  },
  "language_info": {
   "codemirror_mode": {
    "name": "ipython",
    "version": 3
   },
   "file_extension": ".py",
   "mimetype": "text/x-python",
   "name": "python",
   "nbconvert_exporter": "python",
   "pygments_lexer": "ipython3",
   "version": "3.9.21"
  }
 },
 "nbformat": 4,
 "nbformat_minor": 5
}
